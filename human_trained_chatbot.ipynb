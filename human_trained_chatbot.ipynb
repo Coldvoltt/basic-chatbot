{
 "cells": [
  {
   "cell_type": "code",
   "execution_count": null,
   "metadata": {},
   "outputs": [],
   "source": [
    "import json\n",
    "from difflib import get_close_matches"
   ]
  },
  {
   "cell_type": "code",
   "execution_count": null,
   "metadata": {},
   "outputs": [],
   "source": [
    "# Create a function that loads information from the knowledge store(brain)\n",
    "def load_memory(file_path: str) -> dict:\n",
    "    with open(file_path, 'r') as file:\n",
    "        data: dict = json.load(file)\n",
    "    return (data)"
   ]
  },
  {
   "cell_type": "code",
   "execution_count": null,
   "metadata": {},
   "outputs": [],
   "source": [
    "# Createa a function to save information into the knowledge store\n",
    "def save_memory(file_path: str, data: dict):\n",
    "    with open(file_path, 'w') as file:\n",
    "        json.dump(data, file, indent=2)"
   ]
  },
  {
   "cell_type": "code",
   "execution_count": null,
   "metadata": {},
   "outputs": [],
   "source": [
    "# Create a function that finds best match using the get_close_match function\n",
    "# May return string or none\n",
    "def get_best_match(user_query: str, queries: list[str]) -> str | None:\n",
    "    # Setting n = 1 returns the top 1 answer, cutoff is a similarity treashold.\n",
    "    matches: list = get_close_matches(user_query, queries, n=1, cutoff=0.6)\n",
    "    return matches[0] if matches else None\n"
   ]
  },
  {
   "cell_type": "code",
   "execution_count": null,
   "metadata": {},
   "outputs": [],
   "source": [
    "# Create a function that gets response to queries\n",
    "def get_response(query: str, memory: dict) -> str | None:\n",
    "    for q in memory[\"queries\"]:\n",
    "        if q[\"query\"] == query:\n",
    "            return q[\"response\"]"
   ]
  },
  {
   "cell_type": "code",
   "execution_count": null,
   "metadata": {},
   "outputs": [],
   "source": [
    "# Create a chatbot\n",
    "def chat_bot():\n",
    "    memory: dict = load_memory('brain.json')\n",
    "\n",
    "    while True:\n",
    "        user_input: str = input('User: ')\n",
    "\n",
    "        if any(phrase in user_input.lower() for phrase in ['bye', 'Okay', 'great', 'thank']) and len(user_input.split()) <= 3:\n",
    "            break\n",
    "\n",
    "        best_match: str | None = get_best_match(\n",
    "            user_input, [q[\"query\"] for q in memory[\"queries\"]])\n",
    "\n",
    "        if best_match:\n",
    "            response: str = get_response(best_match, memory)\n",
    "            print(f'AI: {response}')\n",
    "        else:\n",
    "            print('AI: I don\\'t know the answer. Please teach me how to answer!.')\n",
    "            new_response: str = input(\n",
    "                'Provide the answer or \"Skip\" to move on: ')\n",
    "\n",
    "            if new_response.lower() != 'skip':\n",
    "                memory[\"queries\"].append(\n",
    "                    {\"query\": user_input, \"response\": new_response})\n",
    "                save_memory('brain.json', memory)\n",
    "                print('AI: Thanks! I learnt something new!')"
   ]
  },
  {
   "cell_type": "code",
   "execution_count": null,
   "metadata": {},
   "outputs": [],
   "source": [
    "chat_bot()"
   ]
  }
 ],
 "metadata": {
  "language_info": {
   "name": "python"
  }
 },
 "nbformat": 4,
 "nbformat_minor": 2
}
